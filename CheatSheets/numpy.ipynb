{
 "cells": [
  {
   "attachments": {},
   "cell_type": "markdown",
   "metadata": {},
   "source": [
    "# NumPy Cheat Sheet\n",
    "\n",
    "## Importing NumPy\n",
    "```python\n",
    "import numpy as np\n",
    "```\n",
    "## Creating and Inspecting Arrays (1D, 2D, zeros, ones, identity, random)\n",
    "\n",
    "`np.array()`: Create an array from a list or tuple  \n",
    "`np.zeros()`: Create an array filled with zeros  \n",
    "`np.ones()`: Create an array filled with ones  \n",
    "`np.eye()`: Create an identity matrix  \n",
    "`np.random.rand()`: Create an array of random floats between 0 and 1  \n",
    "`np.random.randint()`: Create an array of random integers in a given range  \n",
    "`array.shape`: Get the shape of an array  \n",
    "`array.dtype`: Get the data type of an array  \n",
    "`array.ndim`: Get the number of dimensions of an array  \n",
    "`array.size`: Get the total number of elements in an array  \n",
    "## Array Indexing, Slicing, and Filtering (select elements, rows, or columns)  \n",
    "  \n",
    "`array[row, col]`: Indexing elements in an array  \n",
    "`array[row_start:row_end, col_start:col_end]`: Slicing subarrays from an array  \n",
    "`np.where(condition)`: Get indices of elements that meet a condition  \n",
    "`array[np.where(condition)]`: Extract elements that meet a condition  \n",
    "`array[boolean_array]`: Filter using boolean arrays  \n",
    "## Array Operations (element-wise and scalar operations, matrix operations)  \n",
    "  \n",
    "Element-wise addition, subtraction, multiplication, and division  \n",
    "Scalar addition, subtraction, multiplication, and division  \n",
    "Dot product: `np.dot(array1, array2)`  \n",
    "Matrix multiplication: `array1 @ array2`  \n",
    "Transpose: `array.T`  \n",
    "Inverse: `np.linalg.inv(array)`  \n",
    "Determinant: `np.linalg.det(array)`  \n",
    "## Array Functions (math, statistics, sorting, and linear algebra)  \n",
    "  \n",
    "Element-wise functions: `np.sqrt()`, `np.exp()`, `np.log()`  \n",
    "Aggregate functions: `array.sum()`, `array.mean()`, `array.std()`, `array.min()`, `array.max()`  \n",
    "Sorting: `np.sort()`, `np.argsort()`  \n",
    "Statistical functions: `np.percentile()`, `np.median()`, `np.corrcoef()`, `np.cov()`  \n",
    "Linear algebra functions: `np.linalg.solve()`, `np.linalg.lstsq()`, `np.linalg.eig()`, `np.linalg.svd()`, `np.linalg.cholesky()`  \n",
    "## Array Broadcasting (perform operations on arrays with different shapes)  \n",
    "  \n",
    "Follow broadcasting rules to determine if arrays are compatible for element-wise operations  \n",
    "## Trigonometry and Complex Numbers (trigonometric functions, complex number operations)  \n",
    "  \n",
    "Trigonometry functions: `np.sin()`, `np.cos()`, `np.tan()`, `np.arcsin()`, `np.arccos()`, `np.arctan()`  \n",
    "Complex numbers: `array.real`, `array.imag`, `array.conj()`, `np.abs(array)`  \n",
    "Angle conversion: `np.radians()`, `np.degrees()`  "
   ]
  }
 ],
 "metadata": {
  "kernelspec": {
   "display_name": "smd",
   "language": "python",
   "name": "python3"
  },
  "language_info": {
   "name": "python",
   "version": "3.10.10"
  },
  "orig_nbformat": 4
 },
 "nbformat": 4,
 "nbformat_minor": 2
}
